{
 "cells": [
  {
   "cell_type": "markdown",
   "metadata": {},
   "source": [
    "<a href=\"https://www.nvidia.com/dli\"><img src=\"images/DLI_Header.png\" alt=\"標頭\" style=\"width: 400px;\"/> </a>"
   ]
  },
  {
   "cell_type": "markdown",
   "metadata": {},
   "source": [
    "# JupyterLab\n",
    "針對這種實作實驗室，我們會使用 [JupyterLab](https://jupyterlab.readthedocs.io/en/stable/) 來管理環境。[JupyterLab 介面](https://jupyterlab.readthedocs.io/en/stable/user/interface.html)是可提供互動式 iPython Notebook 存取功能的儀表板，也可提供環境的資料夾結構和進入 Ubuntu 作業系統的終端視窗。你看到的第一個畫面會是**功能表列**在頂部，**檔案瀏覽器**在**左側欄**，以及原本就在 [Launcher] (啟動器) 頁面開啟的**主要工作區**。\n",
    "\n",
    "<img src=\"images/jl_launcher.png\">\n",
    "\n",
    "檔案瀏覽器可以像其他任何檔案管理器一樣執行瀏覽功能。只要按兩下任一項目，即可開啟包含項目內容的新分頁。\n",
    "\n",
    "主要工作區包含已開啟檔案的檢視畫面分頁，可依需求關閉、移動和編輯。\n",
    "\n",
    "包含這個 Notebook 在內的所有 Notebook，都是由一連串內容和程式碼**儲存格**組成。若要執行程式碼儲存格中的程式碼，請按下 `Shift+Enter`或上方功能表列中的 [Run] (執行) 按鈕，此時儲存格會有明顯標示。有時，內容儲存格會切換至編輯模式。按下 `Shift+Enter`之後會將儲存格切換回閱讀模式的表單。\n",
    "\n",
    "請試著在下方的儲存格中執行簡單的 print 陳述式。"
   ]
  },
  {
   "cell_type": "code",
   "execution_count": null,
   "metadata": {},
   "outputs": [],
   "source": [
    "# Highlight this cell and click [Shift+Enter] to execute\n",
    "print('This is just a simple print statement')"
   ]
  },
  {
   "cell_type": "markdown",
   "metadata": {},
   "source": [
    "## 清理 GPU 記憶體"
   ]
  },
  {
   "cell_type": "markdown",
   "metadata": {},
   "source": [
    "有時你會需要清理 GPU 記憶體，也許是實驗出錯時要重設 GPU 狀態，或是當你需要重新開始進行一組新的練習並切換 Notebook 時。\n",
    "\n",
    "主要有 2 種的方法可以清理 GPU 記憶體。第一種是使用 Notebook 正上方功能表的 ⟳ 按鈕。立即按一下，就會看到提示詢問你是否要重設 GPU 記憶體。\n",
    "\n",
    "第二種方式是透過程式碼儲存格，你可以在每個 Notebook 的結尾處找到。下方是你可以直接正確執行的其中一種方式。"
   ]
  },
  {
   "cell_type": "code",
   "execution_count": null,
   "metadata": {},
   "outputs": [],
   "source": [
    "import IPython\n",
    "app = IPython.Application.instance()\n",
    "app.kernel.do_shutdown(True)"
   ]
  },
  {
   "cell_type": "markdown",
   "metadata": {},
   "source": [
    "## 下一步"
   ]
  },
  {
   "cell_type": "markdown",
   "metadata": {},
   "source": [
    "現在你已經對互動式環境比較熟悉了，在下一節，你將會執行深度學習的「hello world」，並訓練神經網路以執行手寫數字的影像分類。請繼續前往 [01_mnsist .ipynb](./01_mnist.ipynb)。"
   ]
  },
  {
   "cell_type": "markdown",
   "metadata": {},
   "source": [
    "<a href=\"https://www.nvidia.com/dli\"><img src=\"images/DLI_Header.png\" alt=\"標頭\" style=\"width: 400px;\"/> </a>"
   ]
  }
 ],
 "metadata": {
  "kernelspec": {
   "display_name": "Python 3",
   "language": "python",
   "name": "python3"
  },
  "language_info": {
   "codemirror_mode": {
    "name": "ipython",
    "version": 3
   },
   "file_extension": ".py",
   "mimetype": "text/x-python",
   "name": "python",
   "nbconvert_exporter": "python",
   "pygments_lexer": "ipython3",
   "version": "3.6.9"
  }
 },
 "nbformat": 4,
 "nbformat_minor": 4
}
